{
 "cells": [
  {
   "cell_type": "code",
   "execution_count": 1,
   "id": "ab556406",
   "metadata": {},
   "outputs": [],
   "source": [
    "import numpy as np\n",
    "import matplotlib.pyplot as plt\n",
    "import pandas as pd"
   ]
  },
  {
   "cell_type": "code",
   "execution_count": 2,
   "id": "b2af784b",
   "metadata": {},
   "outputs": [],
   "source": [
    "import CHAID"
   ]
  },
  {
   "cell_type": "code",
   "execution_count": 3,
   "id": "c832ef6c",
   "metadata": {},
   "outputs": [],
   "source": [
    "from CHAID import Tree\n",
    "import ast\n",
    "from tqdm import tqdm\n",
    "tqdm.pandas()\n",
    "import re"
   ]
  },
  {
   "cell_type": "code",
   "execution_count": 9,
   "id": "a8629746",
   "metadata": {},
   "outputs": [
    {
     "name": "stdout",
     "output_type": "stream",
     "text": [
      "(57859, 70)\n"
     ]
    }
   ],
   "source": [
    "dataset = pd.read_csv(\"C:/Users/88001381/Desktop/test_with_binning(1).csv\")\n",
    "print(dataset.shape)"
   ]
  },
  {
   "cell_type": "code",
   "execution_count": 5,
   "id": "d12b80e9",
   "metadata": {},
   "outputs": [
    {
     "data": {
      "text/plain": [
       "Month                   0\n",
       "FIN_AMOUNT              0\n",
       "IRR_CUSTOMER            0\n",
       "ASSET_COST              0\n",
       "LTV                     0\n",
       "                       ..\n",
       "PDC_FLAG_B              0\n",
       "SCHEME_FINPROD_B        0\n",
       "TRACK_RECORD_B          0\n",
       "Restructuring_Flag_B    0\n",
       "BRANCH_NEW_B            0\n",
       "Length: 71, dtype: int64"
      ]
     },
     "execution_count": 5,
     "metadata": {},
     "output_type": "execute_result"
    }
   ],
   "source": [
    "dataset.isnull().sum()"
   ]
  },
  {
   "cell_type": "code",
   "execution_count": 6,
   "id": "d5e1e51c",
   "metadata": {},
   "outputs": [
    {
     "name": "stdout",
     "output_type": "stream",
     "text": [
      "<class 'pandas.core.frame.DataFrame'>\n",
      "RangeIndex: 57881 entries, 0 to 57880\n",
      "Data columns (total 71 columns):\n",
      " #   Column                Non-Null Count  Dtype  \n",
      "---  ------                --------------  -----  \n",
      " 0   Month                 57881 non-null  int64  \n",
      " 1   FIN_AMOUNT            57881 non-null  float64\n",
      " 2   IRR_CUSTOMER          57881 non-null  float64\n",
      " 3   ASSET_COST            57881 non-null  float64\n",
      " 4   LTV                   57881 non-null  float64\n",
      " 5   COLLECTION_TILL_DATE  57881 non-null  float64\n",
      " 6   SOHP                  57881 non-null  float64\n",
      " 7   TENURE                57881 non-null  int64  \n",
      " 8   ODAMT                 57881 non-null  float64\n",
      " 9   COLLECTION_MONTH      57881 non-null  float64\n",
      " 10  FIRST_EMI             57881 non-null  int64  \n",
      " 11  EMI                   57881 non-null  float64\n",
      " 12  ODBKT                 57881 non-null  int64  \n",
      " 13  INCEPTION_MONTH       57881 non-null  int64  \n",
      " 14  MOB                   57881 non-null  int64  \n",
      " 15  SOHPOD                57881 non-null  float64\n",
      " 16  SOHPOD_PREASSIGN      57881 non-null  float64\n",
      " 17  PAID_PER              57881 non-null  float64\n",
      " 18  TENURE_LEFT           57881 non-null  int64  \n",
      " 19  max_odbkt             57881 non-null  int64  \n",
      " 20  Ever_30               57881 non-null  int64  \n",
      " 21  Ever_60               57881 non-null  int64  \n",
      " 22  Ever_90               57881 non-null  int64  \n",
      " 23  max_dpd               57881 non-null  int64  \n",
      " 24  target_variable       57881 non-null  int64  \n",
      " 25  EverInBkt_1_3M        57881 non-null  int64  \n",
      " 26  EverInBkt_2_3M        57881 non-null  int64  \n",
      " 27  EverInBkt_3_3M        57881 non-null  int64  \n",
      " 28  EverInBkt_4Plus_3M    57881 non-null  int64  \n",
      " 29  EverInBkt_1_6M        57881 non-null  int64  \n",
      " 30  EverInBkt_2_6M        57881 non-null  int64  \n",
      " 31  EverInBkt_3_6M        57881 non-null  int64  \n",
      " 32  EverInBkt_4Plus_6M    57881 non-null  int64  \n",
      " 33  EverInBkt_1_9M        57881 non-null  int64  \n",
      " 34  EverInBkt_2_9M        57881 non-null  int64  \n",
      " 35  EverInBkt_3_9M        57881 non-null  int64  \n",
      " 36  EverInBkt_4Plus_9M    57881 non-null  int64  \n",
      " 37  EverInBkt_1_12M       57881 non-null  int64  \n",
      " 38  EverInBkt_2_12M       57881 non-null  int64  \n",
      " 39  EverInBkt_3_12M       57881 non-null  int64  \n",
      " 40  EverInBkt_4Plus_12M   57881 non-null  int64  \n",
      " 41  MaxBkt_24M            57881 non-null  int64  \n",
      " 42  MinBkt_24M            57881 non-null  int64  \n",
      " 43  Mode_Bkt_24M          57881 non-null  int64  \n",
      " 44  SDBkt_24M             57881 non-null  float64\n",
      " 45  Tot_X_6M              57881 non-null  int64  \n",
      " 46  Tot_X_3M              57881 non-null  int64  \n",
      " 47  Bounce_1M             57881 non-null  int64  \n",
      " 48  Last_2M_Cons_Del      57881 non-null  int64  \n",
      " 49  Last_3M_Cons_Del      57881 non-null  int64  \n",
      " 50  Last_6M_Cons_Del      57881 non-null  int64  \n",
      " 51  Del_in_Last_12M       57881 non-null  int64  \n",
      " 52  ASSET_LTV             57881 non-null  float64\n",
      " 53  EMI1                  56719 non-null  float64\n",
      " 54  ME1                   57881 non-null  float64\n",
      " 55  CE1                   57881 non-null  float64\n",
      " 56  PRODUCT_B             57881 non-null  int64  \n",
      " 57  NORM_B                57881 non-null  int64  \n",
      " 58  APPLICATION_USAGE_B   57881 non-null  int64  \n",
      " 59  ASSET_CATEGORY2_B     57881 non-null  int64  \n",
      " 60  STATE_B               57881 non-null  int64  \n",
      " 61  REGION_NEW_B          57881 non-null  int64  \n",
      " 62  IRR_CUSTOMER_B        57859 non-null  float64\n",
      " 63  CUSTOMER_SEGMENT_B    57881 non-null  int64  \n",
      " 64  COMPANY_INDIVIDUAL_B  57881 non-null  int64  \n",
      " 65  SOURCING_B            57881 non-null  int64  \n",
      " 66  PDC_FLAG_B            57881 non-null  int64  \n",
      " 67  SCHEME_FINPROD_B      57881 non-null  int64  \n",
      " 68  TRACK_RECORD_B        57881 non-null  int64  \n",
      " 69  Restructuring_Flag_B  57881 non-null  int64  \n",
      " 70  BRANCH_NEW_B          57881 non-null  int64  \n",
      "dtypes: float64(18), int64(53)\n",
      "memory usage: 31.4 MB\n"
     ]
    }
   ],
   "source": [
    "dataset.info()"
   ]
  },
  {
   "cell_type": "code",
   "execution_count": 10,
   "id": "2d75edd0",
   "metadata": {},
   "outputs": [
    {
     "name": "stdout",
     "output_type": "stream",
     "text": [
      "Month                   0\n",
      "FIN_AMOUNT              0\n",
      "IRR_CUSTOMER            0\n",
      "ASSET_COST              0\n",
      "LTV                     0\n",
      "COLLECTION_TILL_DATE    0\n",
      "SOHP                    0\n",
      "TENURE                  0\n",
      "ODAMT                   0\n",
      "COLLECTION_MONTH        0\n",
      "FIRST_EMI               0\n",
      "EMI                     0\n",
      "ODBKT                   0\n",
      "INCEPTION_MONTH         0\n",
      "MOB                     0\n",
      "SOHPOD                  0\n",
      "SOHPOD_PREASSIGN        0\n",
      "PAID_PER                0\n",
      "TENURE_LEFT             0\n",
      "max_odbkt               0\n",
      "Ever_30                 0\n",
      "Ever_60                 0\n",
      "Ever_90                 0\n",
      "max_dpd                 0\n",
      "target_variable         0\n",
      "EverInBkt_1_3M          0\n",
      "EverInBkt_2_3M          0\n",
      "EverInBkt_3_3M          0\n",
      "EverInBkt_4Plus_3M      0\n",
      "EverInBkt_1_6M          0\n",
      "EverInBkt_2_6M          0\n",
      "EverInBkt_3_6M          0\n",
      "EverInBkt_4Plus_6M      0\n",
      "EverInBkt_1_9M          0\n",
      "EverInBkt_2_9M          0\n",
      "EverInBkt_3_9M          0\n",
      "EverInBkt_4Plus_9M      0\n",
      "EverInBkt_1_12M         0\n",
      "EverInBkt_2_12M         0\n",
      "EverInBkt_3_12M         0\n",
      "EverInBkt_4Plus_12M     0\n",
      "MaxBkt_24M              0\n",
      "MinBkt_24M              0\n",
      "Mode_Bkt_24M            0\n",
      "SDBkt_24M               0\n",
      "Tot_X_6M                0\n",
      "Tot_X_3M                0\n",
      "Bounce_1M               0\n",
      "Last_2M_Cons_Del        0\n",
      "Last_3M_Cons_Del        0\n",
      "Last_6M_Cons_Del        0\n",
      "Del_in_Last_12M         0\n",
      "ASSET_LTV               0\n",
      "ME1                     0\n",
      "CE1                     0\n",
      "PRODUCT_B               0\n",
      "NORM_B                  0\n",
      "APPLICATION_USAGE_B     0\n",
      "ASSET_CATEGORY2_B       0\n",
      "STATE_B                 0\n",
      "REGION_NEW_B            0\n",
      "IRR_CUSTOMER_B          0\n",
      "CUSTOMER_SEGMENT_B      0\n",
      "COMPANY_INDIVIDUAL_B    0\n",
      "SOURCING_B              0\n",
      "PDC_FLAG_B              0\n",
      "SCHEME_FINPROD_B        0\n",
      "TRACK_RECORD_B          0\n",
      "Restructuring_Flag_B    0\n",
      "BRANCH_NEW_B            0\n",
      "dtype: int64\n"
     ]
    }
   ],
   "source": [
    "with pd.option_context('display.max_rows', None, 'display.max_columns', None):\n",
    "    print(dataset.isnull().sum())\n"
   ]
  },
  {
   "cell_type": "code",
   "execution_count": null,
   "id": "1e7ae1d1",
   "metadata": {},
   "outputs": [],
   "source": []
  }
 ],
 "metadata": {
  "kernelspec": {
   "display_name": "Python 3 (ipykernel)",
   "language": "python",
   "name": "python3"
  },
  "language_info": {
   "codemirror_mode": {
    "name": "ipython",
    "version": 3
   },
   "file_extension": ".py",
   "mimetype": "text/x-python",
   "name": "python",
   "nbconvert_exporter": "python",
   "pygments_lexer": "ipython3",
   "version": "3.9.13"
  }
 },
 "nbformat": 4,
 "nbformat_minor": 5
}
